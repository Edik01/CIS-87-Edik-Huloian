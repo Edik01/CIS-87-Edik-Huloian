{
 "cells": [
  {
   "cell_type": "markdown",
   "id": "0b5de009",
   "metadata": {},
   "source": [
    "# [Chapter 1: Statements](https://openstax.org/books/introduction-python-programming/pages/1-introduction)\n",
    "\n",
    "Follow along in this notebook file while reading Chapter 1 of [*Introduction to Python Programming*](https://openstax.org/details/books/introduction-python-programming)."
   ]
  },
  {
   "cell_type": "markdown",
   "id": "d1a7a2f7",
   "metadata": {},
   "source": [
    "## [Section 1.1](https://openstax.org/books/introduction-python-programming/pages/1-1-background): Background\n",
    "\n",
    "Welcome to the interactive world of [Jupyter notebooks](https://www.jetbrains.com/help/pycharm/editing-jupyter-notebook-files.html), which will be your primary tool for coding throughout this course. Jupyter notebooks integrate both code and rich text elements within a single document, allowing for an intuitive workflow that combines explanations, coding, and results analysis. Here, content is divided into blocks called \"cells\" that come in two main types:\n",
    "\n",
    "1. **Markdown Cells**: Like this one, markdown cells contain text formatted using [Markdown](https://www.markdownguide.org/cheat-sheet/), a lightweight markup language. You can use special symbols to create headings, lists, links, and other formatted text. This is ideal for explanations, instructions, or presenting analysis.\n",
    "\n",
    "2. **Code Cells**: These cells are where you will actively write and test your Python code. To run the code in a cell, place your cursor inside it and either press `Ctrl + Enter` or click the green \"Run Cell and Select Below\" button above. This interactive execution allows you to immediately see the output of your code, which is crucial for learning and debugging.\n",
    "\n",
    "In this environment, you will engage with:\n",
    "- **Examples**: I will provide code examples to illustrate programming concepts.\n",
    "- **Exercises**: These are practice problems for you to solve, enhancing your understanding of the material. While not mandatory, completing these exercises is strongly recommended to maximize your learning.\n",
    "- **Assessments**: These are required tasks that evaluate your grasp of the course content. Completing these will help ensure you have mastered the necessary skills and knowledge.\n",
    "\n",
    "Embrace the flexibility of Jupyter notebooks as you write code, solve problems, and document your progress all in one place!"
   ]
  },
  {
   "cell_type": "markdown",
   "id": "73fdc35e",
   "metadata": {
    "collapsed": false
   },
   "source": [
    "## [Section 1.2](https://openstax.org/books/introduction-python-programming/pages/1-2-input-output): Input/Output\n",
    "\n",
    "### [Basic Output](https://openstax.org/books/introduction-python-programming/pages/1-2-input-output#sect-00002)\n",
    "\n",
    "The ability to display output is fundamental in programming, as it allows us to see the results of what our programs are doing. In Python, the simplest and most common method for generating output is using the `print()` function. This function sends data to the standard output device (usually the screen). For instance, when you write the statement `print(\"Hello, world!\")` in a code cell and press `Ctrl + Enter`, the output \"Hello, world!\" appears immediately below the code cell.\n",
    "\n",
    "For more details on this function, refer to the [Official `print()` Reference](https://docs.python.org/3/library/functions.html#print).\n",
    "\n",
    "### [Basic Input](https://openstax.org/books/introduction-python-programming/pages/1-2-input-output#sect-00003)\n",
    "\n",
    "Input is data provided to a program, typically by the user. While programs can receive input from various sources, one method in Python is using the `input()` function. This function prompts the user to enter data and pauses the program until an entry is made. For example, using `input(\"What is your name?\")` in PyCharm will display a popup window prompting you to enter their name.\n",
    "\n",
    "For detailed information on this function, see the [Official `input()` Reference](https://docs.python.org/3/library/functions.html#input).\n",
    "\n",
    "To observe both `print()` and `input()` functions in action, try running the example code provided in the cells below:"
   ]
  },
  {
   "cell_type": "code",
   "execution_count": null,
   "id": "1fa5aca2",
   "metadata": {},
   "outputs": [],
   "source": [
    "# Example: print()\n",
    "\n",
    "# By default, print() will put output on separate lines every time we call print(). See below.  \n",
    "print(\"Python is great!\")\n",
    "print(\"I like chickpeas.\")\n",
    "\n",
    "# We can give print() multiple values. By default, they will be put together on the same line and separated by a space\n",
    "print(\"Python\", \"is\", \"great!\")\n",
    "# If we give print() a sep= value, then we can change the space to whatever we need \n",
    "print(\"Python\", \"is\", \"great!\", sep=\"<>\")\n",
    "\n",
    "# Similarly, we can change what print() does at the end of the values we want to output.\n",
    "# With end=\"\", print will not put the output on its own line. \n",
    "print(\"Python is great! \", end=\"\")\n",
    "print(\"I like chickpeas.\")\n",
    "\n",
    "# Here is an example with modified sep= and end=\n",
    "print(\"Python\", \"is\", \"great!\", sep=\"? \", end=\"!!\")\n",
    "print(\"I like chickpeas.\")"
   ]
  },
  {
   "cell_type": "code",
   "execution_count": null,
   "id": "65b4fde0ce89d9f1",
   "metadata": {
    "collapsed": false
   },
   "outputs": [],
   "source": [
    "# Example: input()\n",
    "\n",
    "# We can give the value we input using input() to print()!\n",
    "# Notice that what you write in the popup is output below\n",
    "print(input(\"What is your favorite animal?\"))"
   ]
  },
  {
   "cell_type": "markdown",
   "id": "dc88b59e",
   "metadata": {},
   "source": [
    "## [Section 1.3](https://openstax.org/books/introduction-python-programming/pages/1-3-variables): Variables\n",
    "\n",
    "### [Assignment Statement](https://openstax.org/books/introduction-python-programming/pages/1-3-variables#sect-00002)\n",
    "\n",
    "Variables are essential tools in programming, acting as placeholders to store data that can be used and manipulated later in the code. Think of variables as labeled boxes where you can store information. To assign a value to a variable, we use the **assignment operator** (`=`). Here are some examples:\n",
    "\n",
    "- Storing the number `42` in a variable called `answer_to_everything`:\n",
    "  \n",
    "  `answer_to_everything = 42`\n",
    "\n",
    "- Storing the string `\"Patrick Jacobs\"` in a variable called `instructor_name`:\n",
    "\n",
    "  `instructor_name = \"Patrick Jacobs\"`\n",
    "\n",
    "This way, the values can be accessed and modified by referring to their variable names throughout the program.\n",
    "\n",
    "### [Variable Naming Rules](https://openstax.org/books/introduction-python-programming/pages/1-3-variables#sect-00003)\n",
    "\n",
    "When naming variables in Python, there are specific rules and best practices to follow:\n",
    "- **Basic Rules**: Variable names can include letters, numbers, and underscores. However, they must not start with a number. For example, `CIS087` is valid, but `087CIS` is not.\n",
    "- **Case Sensitivity**: Python is case-sensitive, meaning `cis_instructor` and `CIS_instructor` are considered different variables.\n",
    "- **PEP8 Guidelines**: According to [PEP8](https://peps.python.org/pep-0008/#function-and-variable-names), Python's official style guide, variable names should be lowercase with words separated by underscores to improve readability. This convention is especially important for maintaining code clarity and consistency.\n",
    "\n",
    "For a comprehensive list of reserved words in Python that cannot be used as variable names, refer to the [Official Python Keyword Reference](https://docs.python.org/3/reference/lexical_analysis.html#keywords). Using these reserved keywords as variable names will result in syntax errors, as they have predefined meanings in Python's language syntax."
   ]
  },
  {
   "cell_type": "code",
   "execution_count": null,
   "id": "caf43c69",
   "metadata": {},
   "outputs": [],
   "source": [
    "# Example: variables\n",
    "\n",
    "# Assign my favorite band \"Gnome\" in the favorite_band variable\n",
    "# Then, print \"My favorite band is\" and favorite_band separated by \"... \"\n",
    "favorite_band = \"Gnome\"\n",
    "print(\"My favorite band is\", favorite_band, sep=\"... \")\n",
    "\n",
    "# Assign the favorite animal that we input to the favorite_animal variable\n",
    "# Then, print \"Your favorite animal is a\" and favorite_animal on its own line\n",
    "favorite_animal = input(\"What is your favorite animal?\")\n",
    "print(\"Your favorite animal is a\", favorite_animal)\n"
   ]
  },
  {
   "cell_type": "code",
   "execution_count": 13,
   "id": "f1e44326",
   "metadata": {},
   "outputs": [
    {
     "name": "stdout",
     "output_type": "stream",
     "text": [
      "Today is Thursday\n"
     ]
    }
   ],
   "source": [
    "# Exercise: variables\n",
    "# Ask for input with the prompt \"What day is today?\", and assign it to a variable named today\n",
    "# Output \"Today is\", and today on the same line\n",
    "today = input(\"What day is today?\")\n",
    "today = \"Thursday\"\n",
    "print(\"Today is\", today)\n",
    "\n",
    "\n"
   ]
  },
  {
   "cell_type": "markdown",
   "id": "2069e1a9",
   "metadata": {},
   "source": [
    "## [Section 1.4](https://openstax.org/books/introduction-python-programming/pages/1-4-string-basics): String Basics\n",
    "\n",
    "### [Quote Marks](https://openstax.org/books/introduction-python-programming/pages/1-4-string-basics#sect-00002)\n",
    "\n",
    "In Python, strings are sequences of characters enclosed in quotation marks. You can use either single quotes (`'`) or double quotes (`\"`) to define a string. Examples include `\"dog\"`, `'Patrick'`, `\"123 Main St.\"`, and `'Password123!'`. It is important to be consistent with the type of quote used within a single string. Mixing single and double quotes, such as `\"Jeromy'` or `'Hello!\"`, results in syntax errors as they are not valid strings.\n",
    "\n",
    "To include an apostrophe within a string, use double quotes to enclose the string, like `\"Won't this work?\"`. To include a quotation mark inside a string, use single quotes, as in `'They said \"Try it!\" so I did.'`\n",
    "\n",
    "For more details on strings, refer to the [Official `str` Reference](https://docs.python.org/3/library/stdtypes.html#text-sequence-type-str).\n",
    "\n",
    "### [len() Function](https://openstax.org/books/introduction-python-programming/pages/1-4-string-basics#sect-00103)\n",
    "\n",
    "The `len()` function in Python is essential for determining the length of data types like strings. The length of a string is the number of characters it contains, including spaces and punctuation. For instance, `len(\"Hello!\")` returns `6`, indicating that `\"Hello!\"` has six characters. The length of an empty string (`\"\"`) is `0`.\n",
    "\n",
    "For more details on this function, refer to the [Official `len()` Reference](https://docs.python.org/3/library/functions.html#len).\n",
    "\n",
    "### [Concatenation](https://openstax.org/books/introduction-python-programming/pages/1-4-string-basics#sect-00003)\n",
    "\n",
    "Concatenation in Python refers to the process of combining strings end-to-end. This is achieved using the concatenation operator (`+`). For example, `\"Hello \" + \"Patrick!\"` results in `\"Hello Patrick!\"`. Concatenation requires values of the same type; thus, trying to combine a string with a number (without converting the number to a string) will result in an error. Concatenation is a fundamental technique for building strings from smaller segments. For instance, `\"A\" + \"part\"` produces the string `\"Apart\"`."
   ]
  },
  {
   "cell_type": "code",
   "execution_count": 4,
   "id": "0f34e8d2",
   "metadata": {},
   "outputs": [
    {
     "name": "stdout",
     "output_type": "stream",
     "text": [
      "Armenia? and? Uranian ? is!!"
     ]
    }
   ],
   "source": [
    "print(\"Armenia\", \"and\", \"Ukrainian \", \"is\", sep=\"? \", end=\"Ukraine\")"
   ]
  },
  {
   "cell_type": "code",
   "execution_count": null,
   "id": "4c7150e4",
   "metadata": {},
   "outputs": [],
   "source": [
    "# Example\n",
    "\n",
    "double_quote_string = \"This is the double-quote string!\"\n",
    "single_quote_string = 'This is the single-quote string!'\n",
    "\n",
    "# Let's print the strings, and their length. Notice that they produce identical output\n",
    "print(double_quote_string, len(double_quote_string))\n",
    "print(single_quote_string, len(single_quote_string))\n",
    "\n",
    "# Here, we concatenate the strings together, and then assign it to a new variable\n",
    "concatenated_string = double_quote_string + single_quote_string\n",
    "# Then, print it and its length\n",
    "print(concatenated_string, len(concatenated_string))"
   ]
  },
  {
   "cell_type": "code",
   "execution_count": 14,
   "id": "a5dd8de1",
   "metadata": {},
   "outputs": [
    {
     "name": "stdout",
     "output_type": "stream",
     "text": [
      "2/27/25 Sunny\n",
      "7 5\n"
     ]
    }
   ],
   "source": [
    "# Exercise: strings \n",
    "# Put today's date in a string, and assign it to the today variable\n",
    "# Put today's weather (Sunny, Rainy, Hot, Cold, etc) in a string and assign it to the weather variable\n",
    "# Concatenate the strings together, and assign it to a new variable called whatever you like\n",
    "# Print the new variable, and its length\n",
    "today = \"2/27/25\"\n",
    "weather = \"Sunny\"\n",
    "print(today, weather)\n",
    "print(len(today), len(weather))\n"
   ]
  },
  {
   "cell_type": "markdown",
   "id": "f7b02dbb",
   "metadata": {},
   "source": [
    "## [Section 1.5](https://openstax.org/books/introduction-python-programming/pages/1-5-number-basics): Number Basics\n",
    "\n",
    "### [Numeric Data Types](https://openstax.org/books/introduction-python-programming/pages/1-5-number-basics#sect-00002)\n",
    "\n",
    "Python categorizes numbers into two primary types: integers and floats. **Integers** represent whole numbers and include negative numbers, zero, and positive numbers (e.g., `..., -2, -1, 0, 1, 2, ...`). **Floats**, on the other hand, are floating-point numbers, which are numbers with a decimal component (e.g., `-1.5, -0.535263, 0.3652643, 1.23235, 3.14159`). The type of data a programming language uses to represent these numbers is known as a data type.\n",
    "\n",
    "To identify the data type of a variable, use the `type()` function. This function returns whether the data stored within a variable is an integer (`int`) or a float (`float`).\n",
    "\n",
    "For more details on numeric types in Python, refer to the [Official `Numeric Types` Reference](https://docs.python.org/3/library/stdtypes.html#numeric-types-int-float-complex).\n",
    "\n",
    "### [Basic Arithmetic Operations](https://openstax.org/books/introduction-python-programming/pages/1-5-number-basics#sect-00003)\n",
    "\n",
    "Python is adept at performing mathematical calculations swiftly, which drastically enhances the efficiency of computational tasks. Imagine a world before calculators or computers where each arithmetic operation required manual calculation. This would significantly slow down processes in business, such as calculating profits, managing inventory, or planning logistics. Thanks to Python, these tasks can now be automated, saving a substantial amount of time and effort.\n",
    "\n",
    "Python supports several arithmetic operations:\n",
    "- **Addition** (`+`): Adds two numbers.\n",
    "- **Subtraction** (`-`): Subtracts one number from another.\n",
    "- **Multiplication** (`*`): Multiplies two numbers.\n",
    "- **Division** (`/`): Divides one number by another.\n",
    "- **Exponentiation** (`**`): Raises a number to the power of another number.\n",
    "\n",
    "### [Operator Precedence (Order of Operations)](https://openstax.org/books/introduction-python-programming/pages/1-5-number-basics#sect-00004)\n",
    "\n",
    "In Python, the order of operations follows the classical arithmetic rules encapsulated in the mnemonic \"Please Excuse My Dear Aunt Sally.\" This order is:\n",
    "- **Parentheses** (`()`) have the highest precedence and can alter the natural order of operations.\n",
    "- **Exponents** (`**`) are evaluated next.\n",
    "- **Multiplication** (`*`) and **Division** (`/`) follow, and they are evaluated from left to right.\n",
    "- **Addition** (`+`) and **Subtraction** (`-`) come last, also evaluated from left to right.\n",
    "\n",
    "For example, the expression `4 * 3 ** 2 + 1` evaluates to `37` because exponents take precedence over multiplication, and multiplication takes precedence over addition. Understanding this order is crucial when writing expressions in Python to ensure calculations are performed as intended.\n",
    "\n",
    "For more details on operator precedence, refer to the [Official `Operator precedence` Reference](https://docs.python.org/3/reference/expressions.html#operator-precedence)."
   ]
  },
  {
   "cell_type": "code",
   "execution_count": null,
   "id": "dd183536",
   "metadata": {},
   "outputs": [],
   "source": [
    "# Example: Basic Arithmetic Operations and Data Types\n",
    "\n",
    "# Define two integers\n",
    "a = 5\n",
    "b = 3\n",
    "\n",
    "print(\"a = \", a)\n",
    "print(\"b = \", b)\n",
    "\n",
    "# Define two floating-point numbers\n",
    "c = 4.5\n",
    "d = 2.5\n",
    "\n",
    "print(\"c = \", c)\n",
    "print(\"d = \", d)\n",
    "\n",
    "# Data types\n",
    "print(\"Type of a:\", type(a))\n",
    "print(\"Type of b:\", type(b))\n",
    "print(\"Type of c:\", type(c))\n",
    "print(\"Type of d:\", type(d))\n",
    "\n",
    "# Addition\n",
    "add_result = a + b\n",
    "print(\"Addition (a + b):\", add_result)\n",
    "\n",
    "# Subtraction\n",
    "sub_result = c - d\n",
    "print(\"Subtraction (c - d):\", sub_result)\n",
    "\n",
    "# Multiplication\n",
    "mult_result = a * c\n",
    "print(\"Multiplication (a * c):\", mult_result)\n",
    "\n",
    "# Division\n",
    "div_result = d / b\n",
    "print(\"Division (d / b):\", div_result)\n",
    "\n",
    "# Demonstrating the order of operations\n",
    "# Expected result follows (a + b) * x = 8 * 4.5 = 36\n",
    "order_operations_result = (a + b) * c\n",
    "print(\"Order of Operations Result ((a + b) * c):\", order_operations_result)"
   ]
  },
  {
   "cell_type": "code",
   "execution_count": null,
   "id": "28e2abd8",
   "metadata": {},
   "outputs": [],
   "source": [
    "# Exercise: Numbers\n",
    "\n",
    "# Write a program to calculate the total cost for a few items bought at a store.\n",
    "\n",
    "# Prices and quantities\n",
    "price_apples = 1.20\n",
    "quantity_apples = 3\n",
    "price_bread = 2.50\n",
    "quantity_bread = 2\n",
    "price_milk = 3.85\n",
    "quantity_milk = 1\n",
    "# 7.5% sales tax\n",
    "sales_tax_rate = 0.075 \n",
    "\n",
    "# Create variables for the total cost for each item\n",
    "# Calculate the cost by multiplying the price by the quantity for each item\n",
    "\n",
    "\n",
    "# Add all the item costs together and assign it to the subtotal variable\n",
    "# Sum the costs of apples, bread, and milk to get the subtotal\n",
    "\n",
    "\n",
    "# Calculate the total with tax\n",
    "# Multiply the subtotal by 1 plus the sales tax rate to include tax\n",
    "\n",
    "\n",
    "# Print the subtotal and total after tax\n"
   ]
  },
  {
   "cell_type": "markdown",
   "id": "a9055b98",
   "metadata": {},
   "source": [
    "## [Section 1.6](https://openstax.org/books/introduction-python-programming/pages/1-6-error-messages): Error Messages\n",
    "\n",
    "### [How to read errors](https://openstax.org/books/introduction-python-programming/pages/1-6-error-messages#sect-00002)\n",
    "\n",
    "Errors are a natural part of programming, and even experienced programmers make mistakes. When Python encounters a mistake, it provides an error message that includes:\n",
    "1. The **line number** where the error occurred.\n",
    "2. The **type of error**, such as `SyntaxError`.\n",
    "3. **Additional details** about the error to help identify and correct it.\n",
    "\n",
    "For example, forgetting parentheses in a `print` statement (e.g., `print \"Hello!\"`) results in a `SyntaxError`, with Python suggesting the correct form as `print(\"Hello\")`.\n",
    "\n",
    "### [Common Types of Errors](https://openstax.org/books/introduction-python-programming/pages/1-6-error-messages#sect-00003)\n",
    "\n",
    "In Python programming, errors can often be traced to simple mistakes. Understanding the types of errors can help in quickly resolving them. Common errors include:\n",
    "\n",
    "- **SyntaxError**: Occurs when Python encounters incorrect syntax. This could be a missing parenthesis, incorrect indentation, or unfinished statements.\n",
    "  - Example: `print(\"Hello\"` may cause `SyntaxError: unexpected EOF while parsing` because the closing parenthesis is missing.\n",
    "\n",
    "- **NameError**: Happens when Python encounters a name that is not defined. It could be due to typos or using a variable before it is defined.\n",
    "  - Example: `print(word)` might cause `NameError: name 'word' is not defined` if `word` was never defined.\n",
    "\n",
    "- **IndentationError**: Python uses indentation to define the scope in code, such as the body of a function, loop, or condition. Incorrect indentation leads to this error.\n",
    "  - Example: An unexpected indent at the beginning of a line like `  print(\"Hello\")` results in `IndentationError: unexpected indent`.\n",
    "\n",
    "### Learning from Error Messages\n",
    "\n",
    "Error messages provide clues for debugging. While they can initially seem overwhelming due to technical jargon, understanding and utilizing these messages is crucial for learning to program effectively. Python's error messages are designed to be as helpful as possible, often pointing exactly to the location and cause of the problem, sometimes suggesting the possible fix.\n",
    "\n",
    "By learning to read and respond to error messages effectively, programmers can significantly enhance their debugging skills and improve their code's reliability."
   ]
  },
  {
   "cell_type": "code",
   "execution_count": null,
   "id": "a5e924a6",
   "metadata": {},
   "outputs": [],
   "source": [
    "# Example: SyntaxError\n",
    "\n",
    "# Run this code to see each error. Then, fix the errors one by one based on the error messages provided by Python.\n",
    "\n",
    "# Notice that PyCharm will place a red squiggly line where an error occurs in our Python code.\n",
    "# You can place your mouse cursor over squiggly lines to see what PyCharm thinks the error is.\n",
    "# Sometimes PyCharm is wrong however! Trust the output from Python more than the output of Pycharm!\n",
    "\n",
    "# Intentional error for learning: SyntaxError\n",
    "# Missing parenthesis in print function call\n",
    "print \"This line has a syntax error\"\n",
    "\n",
    "# Corrected version\n",
    "print(\"This line is correct\")\n",
    "\n",
    "# Intentional error for learning: NameError\n",
    "# Using an undefined variable\n",
    "print(score)\n",
    "\n",
    "# Corrected version\n",
    "score = 10\n",
    "print(score)\n",
    "\n",
    "# Intentional error for learning: IndentationError\n",
    "# Incorrect indentation\n",
    "    print(\"This line should not be indented\")\n",
    "\n",
    "# Corrected version\n",
    "print(\"This line is correctly indented\")\n",
    "\n",
    "# After you run this cell, click the \"Traceback\" button below.\n",
    "# This will display the full information about the error."
   ]
  },
  {
   "cell_type": "markdown",
   "id": "0b232ecd",
   "metadata": {},
   "source": [
    "## [Section 1.7](https://openstax.org/books/introduction-python-programming/pages/1-7-comments): Comments\n",
    "\n",
    "You have seen me use comments in the previous sections. They are a tool that programmers use to give other programmers more insight about \n",
    "\n",
    "### [The hash character](https://openstax.org/books/introduction-python-programming/pages/1-7-comments#sect-00002)\n",
    "\n",
    "In Python, comments are short phrases that explain what the code is doing and are not executed as part of the program. Each comment begins with a hash character (`#`), and all text from the hash character to the end of the line is ignored by the Python interpreter. For example, in the line `# Display the menu options`, everything following the `#` is a comment. However, hash characters inside of strings, such as `\"Item #1: \"`, are treated as regular text and are not comments.\n",
    "\n",
    "When writing comments:\n",
    "- The `#` character should be followed by a single space to enhance readability.\n",
    "- Comments should explain the purpose or rationale behind the code, not just describe what the code is doing. For instance, `# Get the user's preferences` is more useful than `# Input item1 and item2`.\n",
    "\n",
    "### [Code quality](https://openstax.org/books/introduction-python-programming/pages/1-7-comments#sect-00003)\n",
    "\n",
    "Comments can significantly improve the readability and maintainability of code. They are especially useful in delineating sections of code, such as separating menu options from user input handling in a program. Effective use of comments includes:\n",
    "- Using a blank line to separate logical sections of code, enhancing structure and readability.\n",
    "- Writing a comment before each major section of the code; not every line requires a comment, but key operations should be explained.\n",
    "\n",
    "For example:\n",
    "```python\n",
    "# Display the menu options\n",
    "print(\"Lunch Menu\")\n",
    "print(\"----------\")\n",
    "print(\"Burrito\")\n",
    "print(\"Enchilada\")\n",
    "print(\"Taco\")\n",
    "print(\"Salad\")\n",
    "\n",
    "# Get the user's preferences\n",
    "item1 = input(\"Item #1: \")\n",
    "item2 = input(\"Item #2: \")\n",
    "```\n",
    "This code uses comments and spacing to clarify its structure and intent, making it easier for others to read and understand.\n",
    "\n",
    "### [Documentation](https://openstax.org/books/introduction-python-programming/pages/1-7-comments#sect-00004)\n",
    "\n",
    "Python programs can include documentation called docstrings, which are more verbose than typical comments and are designed to explain what the program or a function does at a higher level. Docstrings are enclosed in triple quotes (`\"\"\"`) and can be multiple lines. They typically appear at the beginning of a Python file or function and are used to generate official documentation.\n",
    "\n",
    "A docstring might include:\n",
    "- A one-line summary of the program or function.\n",
    "- A blank line followed by a more detailed description of the program’s functionality.\n",
    "\n",
    "Example of a docstring:\n",
    "```python\n",
    "\"\"\"\n",
    "Vacations Madlib.\n",
    "This program asks the user for two adjectives and two nouns to print a funny story about a vacation. \n",
    "The code uses four variables to store the input and formats the output into a coherent story.\n",
    "\"\"\"\n",
    "```"
   ]
  },
  {
   "cell_type": "markdown",
   "id": "6c311bbb",
   "metadata": {},
   "source": [
    "## Chapter 1 Assessments\n",
    "\n",
    "Below are assessments you are to complete. These are designed to check your understanding of key concepts covered in this chapter. Each assessment focuses on specific topics from the chapter, allowing you to apply what you've learned in practical coding scenarios. Make sure to follow the instructions carefully and test your code to ensure it works correctly."
   ]
  },
  {
   "cell_type": "markdown",
   "id": "6325dcb26149f169",
   "metadata": {
    "collapsed": false
   },
   "source": [
    "### Assessment 1: Input/Output\n",
    "**Objective**: Understand and use basic input/output functions in Python.\n",
    "\n",
    "**Task**: Write a Python program that:\n",
    "1. Asks the user for their favorite color.\n",
    "2. Prints the entered color in a sentence saying, \"Your favorite color is [color].\""
   ]
  },
  {
   "cell_type": "code",
   "execution_count": 1,
   "id": "b02381fa",
   "metadata": {},
   "outputs": [
    {
     "name": "stdout",
     "output_type": "stream",
     "text": [
      "Your favorite color is blue.\n"
     ]
    }
   ],
   "source": [
    "# Assessment 1 (20 pts)\n",
    "# Your code goes below this comment\n",
    "color = input(\"What is your favorite color? \")\n",
    "print(f\"Your favorite color is {color}.\")"
   ]
  },
  {
   "cell_type": "markdown",
   "id": "fdb8d3cee27559af",
   "metadata": {
    "collapsed": false
   },
   "source": [
    "### Assessment 2: Variables and Data Types\n",
    "**Objective**: Practice declaring variables and understanding basic data types.\n",
    "\n",
    "**Task**: Write a Python program that:\n",
    "1. Creates variables to store your age, height (in meters), and your first name.\n",
    "2. Prints these variables in a sentence, e.g., \"My name is [Name], I am [age] years old and [height] meters tall.\""
   ]
  },
  {
   "cell_type": "code",
   "execution_count": 2,
   "id": "38e64c12",
   "metadata": {},
   "outputs": [
    {
     "name": "stdout",
     "output_type": "stream",
     "text": [
      "My name is Edik, I am 33 years old and 170.0 meters tall.\n"
     ]
    }
   ],
   "source": [
    "# Assessment 2 (20 pts)\n",
    "# Your code goes below this comment\n",
    "\n",
    "name = input(\"Enter your name: \")  \n",
    "age = int(input(\"Enter your age: \")) \n",
    "height = float(input(\"Enter your height in meters: \"))  \n",
    "\n",
    "print(f\"My name is {name}, I am {age} years old and {height} meters tall.\")"
   ]
  },
  {
   "cell_type": "markdown",
   "id": "321e5e07121f82e9",
   "metadata": {
    "collapsed": false
   },
   "source": [
    "### Assessment 3: String Manipulation\n",
    "**Objective**: Use string functions and concatenation to manipulate text.\n",
    "\n",
    "**Task**: Write a Python program that:\n",
    "1. Takes two inputs from the user: their first name and last name.\n",
    "2. Concatenates the names into a full name.\n",
    "3. Prints the full name and the length of the full name (number of characters including spaces)."
   ]
  },
  {
   "cell_type": "code",
   "execution_count": null,
   "id": "df9f2ad1130b0278",
   "metadata": {
    "collapsed": false
   },
   "outputs": [],
   "source": [
    "# Assessment 3 (20 pts)\n",
    "# Your code goes below this comment\n",
    "first_name = input(\"Enter your first name: \")\n",
    "last_name = input(\"Enter your last name: \")\n",
    "\n",
    "full_name = first_name + \" \" + last_name\n",
    "\n",
    "print(f\"Your full name is: {full_name}\")\n",
    "print(f\"Length of your full name (including spaces): {len(full_name)}\")"
   ]
  },
  {
   "cell_type": "markdown",
   "id": "ffc6c7bd16ca1263",
   "metadata": {
    "collapsed": false
   },
   "source": [
    "### Assessment 4: Number Basics\n",
    "**Objective**: Perform arithmetic operations and understand operator precedence.\n",
    "\n",
    "**Task**: Write a Python program that:\n",
    "1. Asks the user for two numbers.\n",
    "2. Calculates and prints the sum, product, difference, quotient, and remainder of these numbers.\n",
    "3. Demonstrates the use of parentheses to alter calculation order in an example."
   ]
  },
  {
   "cell_type": "code",
   "execution_count": 3,
   "id": "dce1df5c74f05f87",
   "metadata": {
    "collapsed": false
   },
   "outputs": [
    {
     "name": "stdout",
     "output_type": "stream",
     "text": [
      "Sum: 112.0\n",
      "Difference: -22.0\n",
      "Product: 3015.0\n",
      "Quotient: 0.6716417910447762\n",
      "Remainder: 45.0\n",
      "Without parentheses: num1 + num2 * 2 = 179.0\n",
      "With parentheses: (num1 + num2) * 2 = 224.0\n"
     ]
    }
   ],
   "source": [
    "# Assessment 4 (20 pts)\n",
    "# Your code goes below this comment\n",
    "\n",
    "num1 = float(input(\"Enter the first number: \"))\n",
    "num2 = float(input(\"Enter the second number: \"))\n",
    "\n",
    "sum_result = num1 + num2\n",
    "difference = num1 - num2\n",
    "product = num1 * num2\n",
    "quotient = num1 / num2 \n",
    "remainder = num1 % num2 \n",
    "\n",
    "print(f\"Sum: {sum_result}\")\n",
    "print(f\"Difference: {difference}\")\n",
    "print(f\"Product: {product}\")\n",
    "print(f\"Quotient: {quotient}\")\n",
    "print(f\"Remainder: {remainder}\")\n",
    "\n",
    "example1 = num1 + num2 * 2\n",
    "example2 = (num1 + num2) * 2\n",
    "\n",
    "print(f\"Without parentheses: num1 + num2 * 2 = {example1}\")\n",
    "print(f\"With parentheses: (num1 + num2) * 2 = {example2}\")"
   ]
  }
 ],
 "metadata": {
  "kernelspec": {
   "display_name": "Python 3",
   "language": "python",
   "name": "python3"
  },
  "language_info": {
   "codemirror_mode": {
    "name": "ipython",
    "version": 3
   },
   "file_extension": ".py",
   "mimetype": "text/x-python",
   "name": "python",
   "nbconvert_exporter": "python",
   "pygments_lexer": "ipython3",
   "version": "3.13.0"
  }
 },
 "nbformat": 4,
 "nbformat_minor": 5
}
